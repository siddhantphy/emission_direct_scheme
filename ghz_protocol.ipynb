{
  "cells": [
    {
      "cell_type": "markdown",
      "metadata": {
        "id": "qQOGIo22INii"
      },
      "source": [
        "# GHZ Distillation Protocol"
      ]
    },
    {
      "cell_type": "code",
      "execution_count": 1,
      "metadata": {
        "colab": {
          "base_uri": "https://localhost:8080/"
        },
        "id": "NrxB2EDXIPSB",
        "outputId": "9354e9ff-287a-417e-99a9-fccdda77b830"
      },
      "outputs": [
        {
          "name": "stdout",
          "output_type": "stream",
          "text": [
            "Requirement already satisfied: numpy in c:\\users\\ssingh8\\anaconda3\\envs\\qsurf\\lib\\site-packages (1.23.2)\n",
            "Requirement already satisfied: matplotlib in c:\\users\\ssingh8\\anaconda3\\envs\\qsurf\\lib\\site-packages (3.5.3)\n",
            "Collecting qulacs\n",
            "  Downloading qulacs-0.6.4.1-cp310-cp310-win_amd64.whl (619 kB)\n",
            "     ------------------------------------- 619.5/619.5 kB 19.7 MB/s eta 0:00:00\n",
            "Requirement already satisfied: pyparsing>=2.2.1 in c:\\users\\ssingh8\\anaconda3\\envs\\qsurf\\lib\\site-packages (from matplotlib) (3.0.9)\n",
            "Requirement already satisfied: fonttools>=4.22.0 in c:\\users\\ssingh8\\anaconda3\\envs\\qsurf\\lib\\site-packages (from matplotlib) (4.37.1)\n",
            "Requirement already satisfied: python-dateutil>=2.7 in c:\\users\\ssingh8\\anaconda3\\envs\\qsurf\\lib\\site-packages (from matplotlib) (2.8.2)\n",
            "Requirement already satisfied: cycler>=0.10 in c:\\users\\ssingh8\\anaconda3\\envs\\qsurf\\lib\\site-packages (from matplotlib) (0.11.0)\n",
            "Requirement already satisfied: packaging>=20.0 in c:\\users\\ssingh8\\anaconda3\\envs\\qsurf\\lib\\site-packages (from matplotlib) (21.3)\n",
            "Requirement already satisfied: kiwisolver>=1.0.1 in c:\\users\\ssingh8\\anaconda3\\envs\\qsurf\\lib\\site-packages (from matplotlib) (1.4.4)\n",
            "Requirement already satisfied: pillow>=6.2.0 in c:\\users\\ssingh8\\anaconda3\\envs\\qsurf\\lib\\site-packages (from matplotlib) (9.2.0)\n",
            "Requirement already satisfied: scipy in c:\\users\\ssingh8\\anaconda3\\envs\\qsurf\\lib\\site-packages (from qulacs) (1.9.1)\n",
            "Requirement already satisfied: six>=1.5 in c:\\users\\ssingh8\\anaconda3\\envs\\qsurf\\lib\\site-packages (from python-dateutil>=2.7->matplotlib) (1.16.0)\n",
            "Installing collected packages: qulacs\n",
            "Successfully installed qulacs-0.6.4.1\n"
          ]
        }
      ],
      "source": [
        "!pip install numpy matplotlib qulacs"
      ]
    },
    {
      "cell_type": "code",
      "execution_count": 2,
      "metadata": {
        "id": "h9axaZvIINit"
      },
      "outputs": [],
      "source": [
        "from qulacs import QuantumCircuit, QuantumState, DensityMatrix\n",
        "from qulacs.state import make_superposition, make_mixture, make_superposition, tensor_product, partial_trace\n",
        "from qulacs.gate import H, X, CNOT, Z, Measurement, Identity\n",
        "import numpy as np\n",
        "import matplotlib.pyplot as plt"
      ]
    },
    {
      "cell_type": "code",
      "execution_count": 3,
      "metadata": {
        "id": "xi2Zyh-2INiv"
      },
      "outputs": [],
      "source": [
        "def print_state_vector(vec: np.ndarray, eps: float = 1e-10) -> None:\n",
        "    n = int(np.log2(len(vec) + 1e-10))\n",
        "    for ind in range(2**n):\n",
        "        if np.abs(vec[ind]) < eps:\n",
        "            continue\n",
        "        s = bin(ind)[2:].zfill(n)\n",
        "        print(f\"{vec[ind]:.3f} |{s}>\")\n",
        "\n",
        "def print_density_matrix(dm: np.ndarray, eps: float = 1e-10) -> None:\n",
        "    ee, ev = np.linalg.eigh(dm)\n",
        "    for ei, eval in enumerate(ee):\n",
        "        if eval < eps:\n",
        "            continue\n",
        "        print(f\"prob = {eval}\")\n",
        "        print_state_vector(ev[:, ei])"
      ]
    },
    {
      "cell_type": "markdown",
      "metadata": {
        "id": "LHlOKHpoINiv"
      },
      "source": [
        "## Creating a desiable GHZ-state\n",
        "$\\begin{equation}|\\Psi\\rangle = \\frac{|1010\\rangle + |0101\\rangle}{2}\\end{equation}$  \n",
        "`ghz_state` is Qulacs's representation of density matrix $|\\Psi\\rangle\\langle\\Psi|$"
      ]
    },
    {
      "cell_type": "code",
      "execution_count": 4,
      "metadata": {
        "id": "46IMdrqKINiv"
      },
      "outputs": [],
      "source": [
        "ghz_state = DensityMatrix(4)\n",
        "state1010 = QuantumState(4)\n",
        "state0101 = QuantumState(4)\n",
        "state1010.set_computational_basis(0b1010)\n",
        "state0101.set_computational_basis(0b0101)\n",
        "ghz_vector = make_superposition(1, state1010, 1, state0101)\n",
        "ghz_state = make_mixture(1.0, ghz_vector, 0, ghz_vector)\n",
        "ghz_state.normalize(ghz_state.get_squared_norm())"
      ]
    },
    {
      "cell_type": "markdown",
      "metadata": {
        "id": "pWlA1D2fINiw"
      },
      "source": [
        "## Applying depolarinzing noise to `ghz_state`\n",
        "$\\begin{equation}\n",
        "\\rho_{\\text{imperfect}} = (1 - p_n) |\\Psi\\rangle\\langle\\Psi| + \\frac{p_n}{16} I\n",
        "\\end{equation}$"
      ]
    },
    {
      "cell_type": "code",
      "execution_count": null,
      "metadata": {
        "id": "mDNZJdZXINiw"
      },
      "outputs": [],
      "source": [
        "def create_rho_imperfect(p_n):\n",
        "    mat = (1 - p_n) * ghz_state.get_matrix() + p_n / 16 * np.eye(16)\n",
        "    state = DensityMatrix(4)\n",
        "    state.load(mat)\n",
        "    return state"
      ]
    },
    {
      "cell_type": "markdown",
      "metadata": {
        "id": "vyzSzpUNINiw"
      },
      "source": [
        "## Applying photon loss to create `rho_raw`\n",
        "$\\begin{align}\n",
        "\\rho_{\\text{raw}} &= \\alpha \\rho_{\\text{imperfect}} + \\sum_{i=1}^{5} \\beta_i |\\phi_i\\rangle\\langle\\phi_i| \\nonumber \\\\\n",
        "    &= \\mathcal{N} \\left[p_0Y_0^2|\\Psi\\rangle\\langle\\Psi| + p_1Y_1^2 \\sum_{i=1}^4\n",
        "    |\\phi_i\\rangle\\langle\\phi_i| + 2 p_2Y_2^2 |\\phi_5\\rangle\\langle\\phi_5| \\right] \\nonumber\n",
        "\\end{align}$\n",
        "\n",
        "where \\\\\n",
        "$\\begin{align}\\{|\\phi_i\\rangle\\} &= \\{|1110\\rangle, |1101\\rangle, |1011\\rangle, |0111\\rangle, |1111\\rangle\\} \\nonumber \\\\\n",
        "p_mY_m^2 &= \\frac{1}{4}\\eta^2(1-\\eta)^m a^{4-2m}b^{4+2m} \\nonumber\n",
        "\\end{align}$\n",
        "\n",
        "`p_emi`: photon emittion rate  \n",
        "`p_loss`: photon loss rate"
      ]
    },
    {
      "cell_type": "code",
      "execution_count": null,
      "metadata": {
        "id": "_mIUhla7INix"
      },
      "outputs": [],
      "source": [
        "def create_rho_raw(rho_imperfect, p_emi, p_loss):\n",
        "    a = np.sqrt(1 - p_emi)\n",
        "    b = np.sqrt(p_emi)\n",
        "    eta = 1 - p_loss\n",
        "    pY2 = [(eta ** 2) * ((1 - eta) ** m) / 4 * (a ** (4 - 2*m)) * (b ** (4 + 2*m)) for m in [0, 1, 2]]\n",
        "    state1110 = DensityMatrix(4)\n",
        "    state1110.set_computational_basis(0b1110)\n",
        "    state1101 = DensityMatrix(4)\n",
        "    state1101.set_computational_basis(0b1101)\n",
        "    state1011 = DensityMatrix(4)\n",
        "    state1011.set_computational_basis(0b1011)\n",
        "    state0111 = DensityMatrix(4)\n",
        "    state0111.set_computational_basis(0b0111)\n",
        "    state1111 = DensityMatrix(4)\n",
        "    tmp1 = make_mixture(1,\n",
        "        make_mixture(1,\n",
        "            make_mixture(1, state1110, 1, state1101),\n",
        "            1, state1011),\n",
        "        1, state0111)\n",
        "    state1111.set_computational_basis(0b1111)\n",
        "    tmp2 = make_mixture(1, state1111, 1, state1111)\n",
        "    rho_X = make_mixture(pY2[0], rho_imperfect, 1.0, make_mixture(pY2[1], tmp1, pY2[2], tmp2))\n",
        "    rho_X.normalize(rho_X.get_squared_norm())\n",
        "    return rho_X"
      ]
    },
    {
      "cell_type": "markdown",
      "metadata": {
        "id": "M1NSZHlUINix"
      },
      "source": [
        "## Distillation protocol\n",
        "\n",
        "- raw protocol: Does nothing\n",
        "- basic protocol\n",
        "- medium protocol"
      ]
    },
    {
      "cell_type": "code",
      "execution_count": null,
      "metadata": {
        "id": "ieaK_tcrINix"
      },
      "outputs": [],
      "source": [
        "class Protocol:\n",
        "    def __init__(self, p_n, p_emi, p_loss):\n",
        "        self.p_n = p_n\n",
        "        self.p_emi = p_emi\n",
        "        self.p_loss = p_loss\n",
        "        self.rho_imperfect = create_rho_imperfect(p_n)\n",
        "        self.rho_raw = create_rho_raw(self.rho_imperfect, p_emi, p_loss)\n",
        "        self.basic_prob = None\n",
        "        self.medium_prob = None\n",
        "\n",
        "    def apply_raw_protocol(self):\n",
        "        return self.rho_raw\n",
        "\n",
        "    def apply_basic_protocol(self):\n",
        "        circuit = QuantumCircuit(8)\n",
        "        circuit.add_CNOT_gate(0, 4)\n",
        "        circuit.add_CNOT_gate(1, 5)\n",
        "        circuit.add_CNOT_gate(2, 6)\n",
        "        circuit.add_CNOT_gate(3, 7)\n",
        "        circuit.add_P1_gate(4)\n",
        "        circuit.add_P1_gate(5)\n",
        "        circuit.add_P1_gate(6)\n",
        "        circuit.add_P1_gate(7)\n",
        "        rho_raw = self.rho_raw.copy()\n",
        "        rho_basic = tensor_product(rho_raw, rho_raw)\n",
        "        circuit.update_quantum_state(rho_basic)\n",
        "        rho_basic_traced = partial_trace(rho_basic, [4, 5, 6, 7])\n",
        "        self.basic_prob = rho_basic_traced.get_squared_norm()\n",
        "        rho_basic_traced.normalize(rho_basic_traced.get_squared_norm())\n",
        "        return rho_basic_traced\n",
        "\n",
        "    def apply_medium_protocol(self):\n",
        "        circuit = QuantumCircuit(8)\n",
        "        circuit.add_CZ_gate(0, 4)\n",
        "        circuit.add_CZ_gate(1, 5)\n",
        "        circuit.add_CZ_gate(2, 6)\n",
        "        circuit.add_CZ_gate(3, 7)\n",
        "        circuit.add_H_gate(4)\n",
        "        circuit.add_P1_gate(4)\n",
        "        circuit.add_H_gate(5)\n",
        "        circuit.add_P1_gate(5)\n",
        "        circuit.add_H_gate(6)\n",
        "        circuit.add_P1_gate(6)\n",
        "        circuit.add_H_gate(7)\n",
        "        circuit.add_P1_gate(7)\n",
        "        rho_basic = self.apply_basic_protocol().copy()\n",
        "        rho_medium = tensor_product(rho_basic, rho_basic)\n",
        "        circuit.update_quantum_state(rho_medium)\n",
        "        rho_medium_traced = partial_trace(rho_medium, [4, 5, 6, 7])\n",
        "        self.medium_prob = rho_medium_traced.get_squared_norm()\n",
        "        rho_medium_traced.normalize(rho_medium_traced.get_squared_norm())\n",
        "        return rho_medium_traced\n",
        "\n",
        "    def success_rate(self):\n",
        "        eta = 1 - self.p_loss\n",
        "        return 0.5 * eta ** 2 * self.p_emi ** 2 * (1 - self.p_emi * eta) ** 2"
      ]
    },
    {
      "cell_type": "code",
      "execution_count": null,
      "metadata": {
        "id": "JdhsHRrEINiy"
      },
      "outputs": [],
      "source": [
        "def fidelity(rho1, rho2):\n",
        "    return np.abs(np.trace(np.dot(rho1.get_matrix(), rho2.get_matrix())))"
      ]
    },
    {
      "cell_type": "markdown",
      "metadata": {
        "id": "f6Wq4Q8SINiy"
      },
      "source": [
        "# Simulation\n",
        "## Parameters\n",
        "- `p_n` = 0.0106\n",
        "- `p_emi` = 0.04\n",
        "- `p_loss` = 1 - η\n",
        "    - near term: 1 - 0.0046 = 0.9954\n",
        "    - future term: 1 - 0.4472 = 0.5528"
      ]
    },
    {
      "cell_type": "code",
      "execution_count": null,
      "metadata": {
        "id": "WAmLB8sSINiy"
      },
      "outputs": [],
      "source": [
        "protocol = Protocol(p_n = 0.0106, p_emi = 0.04, p_loss = 0.9954)\n",
        "#protocol = Protocol(p_n = 0.0106, p_emi = 0.04, p_loss = 0.5528)"
      ]
    },
    {
      "cell_type": "code",
      "execution_count": null,
      "metadata": {
        "colab": {
          "base_uri": "https://localhost:8080/"
        },
        "id": "yMEjJSniINiy",
        "outputId": "902832f6-0bc6-4f71-d75c-4829441b77c3"
      },
      "outputs": [
        {
          "name": "stdout",
          "output_type": "stream",
          "text": [
            "0.8466846277404558\n",
            "0.9981946238150656\n",
            "0.99842097200263\n"
          ]
        }
      ],
      "source": [
        "raw = protocol.apply_raw_protocol()\n",
        "basic = protocol.apply_basic_protocol()\n",
        "medium = protocol.apply_medium_protocol()\n",
        "print(fidelity(ghz_state, raw))\n",
        "print(fidelity(ghz_state, basic))\n",
        "print(fidelity(ghz_state, medium))"
      ]
    },
    {
      "cell_type": "code",
      "execution_count": null,
      "metadata": {
        "colab": {
          "base_uri": "https://localhost:8080/"
        },
        "id": "Lb-DS0n8INiz",
        "outputId": "dbf06047-136b-46ec-f6c1-f64fc83da38b"
      },
      "outputs": [
        {
          "data": {
            "text/plain": [
              "array([[0.00056656+0.j, 0.        +0.j, 0.        +0.j, 0.        +0.j,\n",
              "        0.        +0.j, 0.        +0.j, 0.        +0.j, 0.        +0.j,\n",
              "        0.        +0.j, 0.        +0.j, 0.        +0.j, 0.        +0.j,\n",
              "        0.        +0.j, 0.        +0.j, 0.        +0.j, 0.        +0.j],\n",
              "       [0.        +0.j, 0.00056656+0.j, 0.        +0.j, 0.        +0.j,\n",
              "        0.        +0.j, 0.        +0.j, 0.        +0.j, 0.        +0.j,\n",
              "        0.        +0.j, 0.        +0.j, 0.        +0.j, 0.        +0.j,\n",
              "        0.        +0.j, 0.        +0.j, 0.        +0.j, 0.        +0.j],\n",
              "       [0.        +0.j, 0.        +0.j, 0.00056656+0.j, 0.        +0.j,\n",
              "        0.        +0.j, 0.        +0.j, 0.        +0.j, 0.        +0.j,\n",
              "        0.        +0.j, 0.        +0.j, 0.        +0.j, 0.        +0.j,\n",
              "        0.        +0.j, 0.        +0.j, 0.        +0.j, 0.        +0.j],\n",
              "       [0.        +0.j, 0.        +0.j, 0.        +0.j, 0.00056656+0.j,\n",
              "        0.        +0.j, 0.        +0.j, 0.        +0.j, 0.        +0.j,\n",
              "        0.        +0.j, 0.        +0.j, 0.        +0.j, 0.        +0.j,\n",
              "        0.        +0.j, 0.        +0.j, 0.        +0.j, 0.        +0.j],\n",
              "       [0.        +0.j, 0.        +0.j, 0.        +0.j, 0.        +0.j,\n",
              "        0.00056656+0.j, 0.        +0.j, 0.        +0.j, 0.        +0.j,\n",
              "        0.        +0.j, 0.        +0.j, 0.        +0.j, 0.        +0.j,\n",
              "        0.        +0.j, 0.        +0.j, 0.        +0.j, 0.        +0.j],\n",
              "       [0.        +0.j, 0.        +0.j, 0.        +0.j, 0.        +0.j,\n",
              "        0.        +0.j, 0.42362559+0.j, 0.        +0.j, 0.        +0.j,\n",
              "        0.        +0.j, 0.        +0.j, 0.42305903+0.j, 0.        +0.j,\n",
              "        0.        +0.j, 0.        +0.j, 0.        +0.j, 0.        +0.j],\n",
              "       [0.        +0.j, 0.        +0.j, 0.        +0.j, 0.        +0.j,\n",
              "        0.        +0.j, 0.        +0.j, 0.00056656+0.j, 0.        +0.j,\n",
              "        0.        +0.j, 0.        +0.j, 0.        +0.j, 0.        +0.j,\n",
              "        0.        +0.j, 0.        +0.j, 0.        +0.j, 0.        +0.j],\n",
              "       [0.        +0.j, 0.        +0.j, 0.        +0.j, 0.        +0.j,\n",
              "        0.        +0.j, 0.        +0.j, 0.        +0.j, 0.03603527+0.j,\n",
              "        0.        +0.j, 0.        +0.j, 0.        +0.j, 0.        +0.j,\n",
              "        0.        +0.j, 0.        +0.j, 0.        +0.j, 0.        +0.j],\n",
              "       [0.        +0.j, 0.        +0.j, 0.        +0.j, 0.        +0.j,\n",
              "        0.        +0.j, 0.        +0.j, 0.        +0.j, 0.        +0.j,\n",
              "        0.00056656+0.j, 0.        +0.j, 0.        +0.j, 0.        +0.j,\n",
              "        0.        +0.j, 0.        +0.j, 0.        +0.j, 0.        +0.j],\n",
              "       [0.        +0.j, 0.        +0.j, 0.        +0.j, 0.        +0.j,\n",
              "        0.        +0.j, 0.        +0.j, 0.        +0.j, 0.        +0.j,\n",
              "        0.        +0.j, 0.00056656+0.j, 0.        +0.j, 0.        +0.j,\n",
              "        0.        +0.j, 0.        +0.j, 0.        +0.j, 0.        +0.j],\n",
              "       [0.        +0.j, 0.        +0.j, 0.        +0.j, 0.        +0.j,\n",
              "        0.        +0.j, 0.42305903+0.j, 0.        +0.j, 0.        +0.j,\n",
              "        0.        +0.j, 0.        +0.j, 0.42362559+0.j, 0.        +0.j,\n",
              "        0.        +0.j, 0.        +0.j, 0.        +0.j, 0.        +0.j],\n",
              "       [0.        +0.j, 0.        +0.j, 0.        +0.j, 0.        +0.j,\n",
              "        0.        +0.j, 0.        +0.j, 0.        +0.j, 0.        +0.j,\n",
              "        0.        +0.j, 0.        +0.j, 0.        +0.j, 0.03603527+0.j,\n",
              "        0.        +0.j, 0.        +0.j, 0.        +0.j, 0.        +0.j],\n",
              "       [0.        +0.j, 0.        +0.j, 0.        +0.j, 0.        +0.j,\n",
              "        0.        +0.j, 0.        +0.j, 0.        +0.j, 0.        +0.j,\n",
              "        0.        +0.j, 0.        +0.j, 0.        +0.j, 0.        +0.j,\n",
              "        0.00056656+0.j, 0.        +0.j, 0.        +0.j, 0.        +0.j],\n",
              "       [0.        +0.j, 0.        +0.j, 0.        +0.j, 0.        +0.j,\n",
              "        0.        +0.j, 0.        +0.j, 0.        +0.j, 0.        +0.j,\n",
              "        0.        +0.j, 0.        +0.j, 0.        +0.j, 0.        +0.j,\n",
              "        0.        +0.j, 0.03603527+0.j, 0.        +0.j, 0.        +0.j],\n",
              "       [0.        +0.j, 0.        +0.j, 0.        +0.j, 0.        +0.j,\n",
              "        0.        +0.j, 0.        +0.j, 0.        +0.j, 0.        +0.j,\n",
              "        0.        +0.j, 0.        +0.j, 0.        +0.j, 0.        +0.j,\n",
              "        0.        +0.j, 0.        +0.j, 0.03603527+0.j, 0.        +0.j],\n",
              "       [0.        +0.j, 0.        +0.j, 0.        +0.j, 0.        +0.j,\n",
              "        0.        +0.j, 0.        +0.j, 0.        +0.j, 0.        +0.j,\n",
              "        0.        +0.j, 0.        +0.j, 0.        +0.j, 0.        +0.j,\n",
              "        0.        +0.j, 0.        +0.j, 0.        +0.j, 0.00350869+0.j]])"
            ]
          },
          "execution_count": 12,
          "metadata": {},
          "output_type": "execute_result"
        }
      ],
      "source": [
        "raw.get_matrix()"
      ]
    },
    {
      "cell_type": "code",
      "execution_count": null,
      "metadata": {
        "id": "9PN10lbaINiz"
      },
      "outputs": [],
      "source": [
        "#mat = raw.get_matrix().real\n",
        "#np.savetxt('data/ghz_raw.csv', mat, delimiter=',')"
      ]
    },
    {
      "cell_type": "markdown",
      "metadata": {
        "id": "tZWyXx4xINiz"
      },
      "source": [
        "## Success rate of raw state"
      ]
    },
    {
      "cell_type": "code",
      "execution_count": null,
      "metadata": {
        "colab": {
          "base_uri": "https://localhost:8080/"
        },
        "id": "We-Z5gTpINi0",
        "outputId": "60693da2-2f35-483f-cddd-a623b592b67b"
      },
      "outputs": [
        {
          "data": {
            "text/plain": [
              "1.6921771069114723e-08"
            ]
          },
          "execution_count": 15,
          "metadata": {},
          "output_type": "execute_result"
        }
      ],
      "source": [
        "protocol.success_rate()"
      ]
    },
    {
      "cell_type": "markdown",
      "metadata": {
        "id": "IGfu_8UZINi0"
      },
      "source": [
        "## Success rate of distillation protocol"
      ]
    },
    {
      "cell_type": "code",
      "execution_count": null,
      "metadata": {
        "colab": {
          "base_uri": "https://localhost:8080/"
        },
        "id": "f60EGqnTINi0",
        "outputId": "82facae3-5da4-4365-e89e-880d453dad15"
      },
      "outputs": [
        {
          "name": "stdout",
          "output_type": "stream",
          "text": [
            "0.3590858750074868\n",
            "0.0447948835544981\n"
          ]
        }
      ],
      "source": [
        "print(protocol.basic_prob)\n",
        "print(protocol.medium_prob * protocol.basic_prob)"
      ]
    }
  ],
  "metadata": {
    "colab": {
      "provenance": []
    },
    "kernelspec": {
      "display_name": "quantum",
      "language": "python",
      "name": "python3"
    },
    "language_info": {
      "codemirror_mode": {
        "name": "ipython",
        "version": 3
      },
      "file_extension": ".py",
      "mimetype": "text/x-python",
      "name": "python",
      "nbconvert_exporter": "python",
      "pygments_lexer": "ipython3",
      "version": "3.10.4"
    }
  },
  "nbformat": 4,
  "nbformat_minor": 0
}
