{
 "cells": [
  {
   "cell_type": "code",
   "execution_count": 1,
   "id": "775228b5",
   "metadata": {},
   "outputs": [
    {
     "name": "stdout",
     "output_type": "stream",
     "text": [
      "*** GHZ state fidelity of the GHZ Fusion ($k=11$) protocol state is 0.1282210900185208.***\n",
      "*** Success rate of the GHZ Fusion ($k=11$) protocol state is 0.5.***\n"
     ]
    }
   ],
   "source": [
    "from circuit_simulation.circuit_simulator import QuantumCircuit\n",
    "import numpy as np\n",
    "\n",
    "shots = 100\n",
    "\n",
    "coh_time = 10\n",
    "pg = 0.001\n",
    "bell_pair_parameters = {\"ent_prot\":\"single_click\",\"F_prep\":0.999,\"p_DE\":0.01,\"mu\":0.95,\"lambda\":1,\"eta\":0.4474,\"alpha\":0.02} # FP\n",
    "# bell_pair_parameters = {\"ent_prot\":\"single_click\",\"F_prep\":1,\"p_DE\":0.00,\"mu\":1,\"lambda\":1,\"eta\":1,\"alpha\":0.08} # Noiseless\n",
    "\n",
    "qc = QuantumCircuit(0, p_g=pg, network_noise_type=105, only_GHZ=True, shots_emission_direct=shots, photon_number_resolution=False, \n",
    "                    bell_pair_parameters=bell_pair_parameters, T2n_idle=coh_time, T1n_idle=coh_time, \n",
    "                    T2n_link=coh_time, T1n_link=coh_time, T2e_idle=coh_time, T1e_idle=coh_time)"
   ]
  }
 ],
 "metadata": {
  "kernelspec": {
   "display_name": ".venv",
   "language": "python",
   "name": "python3"
  },
  "language_info": {
   "codemirror_mode": {
    "name": "ipython",
    "version": 3
   },
   "file_extension": ".py",
   "mimetype": "text/x-python",
   "name": "python",
   "nbconvert_exporter": "python",
   "pygments_lexer": "ipython3",
   "version": "3.10.7"
  }
 },
 "nbformat": 4,
 "nbformat_minor": 5
}
